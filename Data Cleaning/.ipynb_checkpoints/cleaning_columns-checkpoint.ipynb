{
 "cells": [
  {
   "cell_type": "code",
   "execution_count": 12,
   "metadata": {
    "collapsed": true
   },
   "outputs": [],
   "source": [
    "import pandas as pd\n",
    "import numpy as np"
   ]
  },
  {
   "cell_type": "code",
   "execution_count": 3,
   "metadata": {},
   "outputs": [],
   "source": [
    "df = pd.read_csv('criminal_main.csv',encoding='latin-1')"
   ]
  },
  {
   "cell_type": "code",
   "execution_count": 6,
   "metadata": {},
   "outputs": [
    {
     "data": {
      "text/html": [
       "<div>\n",
       "<style>\n",
       "    .dataframe thead tr:only-child th {\n",
       "        text-align: right;\n",
       "    }\n",
       "\n",
       "    .dataframe thead th {\n",
       "        text-align: left;\n",
       "    }\n",
       "\n",
       "    .dataframe tbody tr th {\n",
       "        vertical-align: top;\n",
       "    }\n",
       "</style>\n",
       "<table border=\"1\" class=\"dataframe\">\n",
       "  <thead>\n",
       "    <tr style=\"text-align: right;\">\n",
       "      <th></th>\n",
       "      <th>Unnamed: 0</th>\n",
       "      <th>File</th>\n",
       "      <th>CaseName</th>\n",
       "      <th>CivilKriminal</th>\n",
       "      <th>Court</th>\n",
       "      <th>County</th>\n",
       "      <th>Judge</th>\n",
       "      <th>DistrictAttorney</th>\n",
       "      <th>ADA</th>\n",
       "      <th>Keywords</th>\n",
       "      <th>...</th>\n",
       "      <th>Defense</th>\n",
       "      <th>First_Date</th>\n",
       "      <th>Appeal_Date</th>\n",
       "      <th>FirstD_dow</th>\n",
       "      <th>AppealD_dow</th>\n",
       "      <th>FirstD_weekday</th>\n",
       "      <th>AppealD_weekday</th>\n",
       "      <th>FirstD_month</th>\n",
       "      <th>AppealD_month</th>\n",
       "      <th>Y</th>\n",
       "    </tr>\n",
       "  </thead>\n",
       "  <tbody>\n",
       "    <tr>\n",
       "      <th>0</th>\n",
       "      <td>0</td>\n",
       "      <td>2009_08295.htm.txt</td>\n",
       "      <td>NaN</td>\n",
       "      <td>K</td>\n",
       "      <td>County Court</td>\n",
       "      <td>Niagara County</td>\n",
       "      <td>Peter L. Broderick, Sr., J.</td>\n",
       "      <td>Michael J. Violante</td>\n",
       "      <td>Thomas H. Brandt</td>\n",
       "      <td>affirmed</td>\n",
       "      <td>...</td>\n",
       "      <td>NaN</td>\n",
       "      <td>11/9/07</td>\n",
       "      <td>11/13/09</td>\n",
       "      <td>Friday</td>\n",
       "      <td>Friday</td>\n",
       "      <td>1</td>\n",
       "      <td>1</td>\n",
       "      <td>11.0</td>\n",
       "      <td>11</td>\n",
       "      <td>0</td>\n",
       "    </tr>\n",
       "    <tr>\n",
       "      <th>1</th>\n",
       "      <td>1</td>\n",
       "      <td>2009_08296.htm.txt</td>\n",
       "      <td>NaN</td>\n",
       "      <td>K</td>\n",
       "      <td>County Court</td>\n",
       "      <td>Oneida County</td>\n",
       "      <td>Michael L. Dwyer, J.</td>\n",
       "      <td>Scott D. McNamara</td>\n",
       "      <td>Steven G. Cox</td>\n",
       "      <td>affirmed;interest of justice</td>\n",
       "      <td>...</td>\n",
       "      <td>NaN</td>\n",
       "      <td>11/6/06</td>\n",
       "      <td>11/13/09</td>\n",
       "      <td>Monday</td>\n",
       "      <td>Friday</td>\n",
       "      <td>1</td>\n",
       "      <td>1</td>\n",
       "      <td>11.0</td>\n",
       "      <td>11</td>\n",
       "      <td>0</td>\n",
       "    </tr>\n",
       "    <tr>\n",
       "      <th>2</th>\n",
       "      <td>2</td>\n",
       "      <td>2009_08297.htm.txt</td>\n",
       "      <td>NaN</td>\n",
       "      <td>K</td>\n",
       "      <td>County Court</td>\n",
       "      <td>Onondaga County</td>\n",
       "      <td>Joseph E. Fahey, J.</td>\n",
       "      <td>William J. Fitzpatrick</td>\n",
       "      <td>Victoria M. White</td>\n",
       "      <td>affirmed;modified;interest of justice</td>\n",
       "      <td>...</td>\n",
       "      <td>Legal Aid Society</td>\n",
       "      <td>10/18/06</td>\n",
       "      <td>11/13/09</td>\n",
       "      <td>Wednesday</td>\n",
       "      <td>Friday</td>\n",
       "      <td>1</td>\n",
       "      <td>1</td>\n",
       "      <td>10.0</td>\n",
       "      <td>11</td>\n",
       "      <td>1</td>\n",
       "    </tr>\n",
       "    <tr>\n",
       "      <th>3</th>\n",
       "      <td>3</td>\n",
       "      <td>2009_08298.htm.txt</td>\n",
       "      <td>NaN</td>\n",
       "      <td>K</td>\n",
       "      <td>County Court</td>\n",
       "      <td>Niagara County</td>\n",
       "      <td>Angelo J. Morinello, A.J.</td>\n",
       "      <td>NaN</td>\n",
       "      <td>NaN</td>\n",
       "      <td>affirmed</td>\n",
       "      <td>...</td>\n",
       "      <td>NaN</td>\n",
       "      <td>11/2/07</td>\n",
       "      <td>11/13/09</td>\n",
       "      <td>Friday</td>\n",
       "      <td>Friday</td>\n",
       "      <td>1</td>\n",
       "      <td>1</td>\n",
       "      <td>11.0</td>\n",
       "      <td>11</td>\n",
       "      <td>0</td>\n",
       "    </tr>\n",
       "    <tr>\n",
       "      <th>4</th>\n",
       "      <td>4</td>\n",
       "      <td>2009_08311.htm.txt</td>\n",
       "      <td>NaN</td>\n",
       "      <td>K</td>\n",
       "      <td>County Court</td>\n",
       "      <td>Onondaga County</td>\n",
       "      <td>Joseph E. Fahey, J.</td>\n",
       "      <td>William J. Fitzpatrick</td>\n",
       "      <td>James P. Maxwell</td>\n",
       "      <td>affirmed;dismissed;interest of justice</td>\n",
       "      <td>...</td>\n",
       "      <td>Legal Aid Society</td>\n",
       "      <td>4/21/05</td>\n",
       "      <td>11/13/09</td>\n",
       "      <td>Thursday</td>\n",
       "      <td>Friday</td>\n",
       "      <td>1</td>\n",
       "      <td>1</td>\n",
       "      <td>4.0</td>\n",
       "      <td>11</td>\n",
       "      <td>1</td>\n",
       "    </tr>\n",
       "  </tbody>\n",
       "</table>\n",
       "<p>5 rows × 28 columns</p>\n",
       "</div>"
      ],
      "text/plain": [
       "   Unnamed: 0                File  CaseName CivilKriminal         Court  \\\n",
       "0           0  2009_08295.htm.txt       NaN             K  County Court   \n",
       "1           1  2009_08296.htm.txt       NaN             K  County Court   \n",
       "2           2  2009_08297.htm.txt       NaN             K  County Court   \n",
       "3           3  2009_08298.htm.txt       NaN             K  County Court   \n",
       "4           4  2009_08311.htm.txt       NaN             K  County Court   \n",
       "\n",
       "            County                        Judge        DistrictAttorney  \\\n",
       "0   Niagara County  Peter L. Broderick, Sr., J.     Michael J. Violante   \n",
       "1    Oneida County         Michael L. Dwyer, J.       Scott D. McNamara   \n",
       "2  Onondaga County          Joseph E. Fahey, J.  William J. Fitzpatrick   \n",
       "3   Niagara County    Angelo J. Morinello, A.J.                     NaN   \n",
       "4  Onondaga County          Joseph E. Fahey, J.  William J. Fitzpatrick   \n",
       "\n",
       "                 ADA                                Keywords ...  \\\n",
       "0   Thomas H. Brandt                                affirmed ...   \n",
       "1      Steven G. Cox            affirmed;interest of justice ...   \n",
       "2  Victoria M. White   affirmed;modified;interest of justice ...   \n",
       "3                NaN                                affirmed ...   \n",
       "4   James P. Maxwell  affirmed;dismissed;interest of justice ...   \n",
       "\n",
       "             Defense  First_Date Appeal_Date FirstD_dow  AppealD_dow  \\\n",
       "0                NaN     11/9/07    11/13/09     Friday       Friday   \n",
       "1                NaN     11/6/06    11/13/09     Monday       Friday   \n",
       "2  Legal Aid Society    10/18/06    11/13/09  Wednesday       Friday   \n",
       "3                NaN     11/2/07    11/13/09     Friday       Friday   \n",
       "4  Legal Aid Society     4/21/05    11/13/09   Thursday       Friday   \n",
       "\n",
       "  FirstD_weekday AppealD_weekday FirstD_month AppealD_month  Y  \n",
       "0              1               1         11.0            11  0  \n",
       "1              1               1         11.0            11  0  \n",
       "2              1               1         10.0            11  1  \n",
       "3              1               1         11.0            11  0  \n",
       "4              1               1          4.0            11  1  \n",
       "\n",
       "[5 rows x 28 columns]"
      ]
     },
     "execution_count": 6,
     "metadata": {},
     "output_type": "execute_result"
    }
   ],
   "source": [
    "df.head()"
   ]
  },
  {
   "cell_type": "markdown",
   "metadata": {},
   "source": [
    "#### Part I. GroundsForAppeal column"
   ]
  },
  {
   "cell_type": "markdown",
   "metadata": {},
   "source": [
    "Assuming that there was more than merely harmless error, there are four basic grounds for appeal:\n",
    "\n",
    "- The lower court made a serious error of law (plain error);\n",
    "- The weight of the evidence does not support the verdict;\n",
    "- The lower court abused its discretion in making an errant ruling;\n",
    "- The claim of Ineffective Assistance of Counsel under the Sixth Amendment."
   ]
  },
  {
   "cell_type": "code",
   "execution_count": 41,
   "metadata": {
    "collapsed": true
   },
   "outputs": [],
   "source": [
    "grounds = df.GroundsForAppeal"
   ]
  },
  {
   "cell_type": "code",
   "execution_count": 5,
   "metadata": {
    "collapsed": true
   },
   "outputs": [],
   "source": [
    "num_rows = grounds.shape[0]"
   ]
  },
  {
   "cell_type": "code",
   "execution_count": 6,
   "metadata": {
    "collapsed": true
   },
   "outputs": [],
   "source": [
    "num_missing = grounds.isnull().sum()"
   ]
  },
  {
   "cell_type": "code",
   "execution_count": 58,
   "metadata": {},
   "outputs": [
    {
     "name": "stdout",
     "output_type": "stream",
     "text": [
      "Share of missing values: 0.472076884948\n"
     ]
    }
   ],
   "source": [
    "share_missing = num_missing/num_rows\n",
    "print('Share of missing values:', str(share_missing))"
   ]
  },
  {
   "cell_type": "code",
   "execution_count": 7,
   "metadata": {
    "collapsed": true
   },
   "outputs": [],
   "source": [
    "unique  = grounds.unique()"
   ]
  },
  {
   "cell_type": "code",
   "execution_count": 8,
   "metadata": {
    "collapsed": true
   },
   "outputs": [],
   "source": [
    "grounds_list = []\n",
    "\n",
    "for line in grounds:\n",
    "    if isinstance(line, float): #skip nan\n",
    "        continue\n",
    "    words = line.split(';')\n",
    "    grounds_list.extend(words)"
   ]
  },
  {
   "cell_type": "code",
   "execution_count": 50,
   "metadata": {
    "collapsed": true
   },
   "outputs": [],
   "source": [
    "unique_grounds = set(grounds_list)"
   ]
  },
  {
   "cell_type": "code",
   "execution_count": 10,
   "metadata": {},
   "outputs": [
    {
     "data": {
      "text/plain": [
       "{'coerce',\n",
       " 'coercion',\n",
       " 'double jeopardy',\n",
       " 'incapac',\n",
       " 'ineffective counsel',\n",
       " 'instructions',\n",
       " 'juror',\n",
       " 'mental',\n",
       " 'resentenc',\n",
       " 'sever',\n",
       " 'speedy',\n",
       " 'sufficient',\n",
       " 'suppress',\n",
       " 'youth'}"
      ]
     },
     "execution_count": 10,
     "metadata": {},
     "output_type": "execute_result"
    }
   ],
   "source": [
    "unique_grounds"
   ]
  },
  {
   "cell_type": "code",
   "execution_count": 66,
   "metadata": {},
   "outputs": [
    {
     "name": "stdout",
     "output_type": "stream",
     "text": [
      "instructions 1556\n",
      "suppress 5042\n",
      "mental 3119\n",
      "coercion 365\n",
      "ineffective counsel 3\n",
      "youth 740\n",
      "sufficient 9569\n",
      "coerce 552\n",
      "sever 5128\n",
      "double jeopardy 382\n",
      "speedy 500\n",
      "resentenc 3096\n",
      "incapac 153\n",
      "juror 2038\n"
     ]
    }
   ],
   "source": [
    "#Count number of unique occurrences per category - this does\n",
    "for ground in unique_grounds:\n",
    "    print(ground, grounds_list.count(ground))"
   ]
  },
  {
   "cell_type": "code",
   "execution_count": 67,
   "metadata": {},
   "outputs": [
    {
     "data": {
      "text/plain": [
       "36314"
      ]
     },
     "execution_count": 67,
     "metadata": {},
     "output_type": "execute_result"
    }
   ],
   "source": [
    "len(grounds)"
   ]
  },
  {
   "cell_type": "markdown",
   "metadata": {},
   "source": [
    "#### Conclusion: about half of the data in the column is missing. However, we could clean and featurize existing categories."
   ]
  },
  {
   "cell_type": "markdown",
   "metadata": {},
   "source": [
    "#### Part II. Mode of Conviction column"
   ]
  },
  {
   "cell_type": "code",
   "execution_count": 36,
   "metadata": {
    "collapsed": true
   },
   "outputs": [],
   "source": [
    "mode = df.ModeOfConviction"
   ]
  },
  {
   "cell_type": "code",
   "execution_count": 49,
   "metadata": {
    "collapsed": true
   },
   "outputs": [],
   "source": [
    "unique_modes = mode.unique()"
   ]
  },
  {
   "cell_type": "code",
   "execution_count": 35,
   "metadata": {
    "collapsed": true
   },
   "outputs": [],
   "source": [
    "num_rows = mode.shape[0]\n",
    "num_missing = mode.isnull().sum()"
   ]
  },
  {
   "cell_type": "code",
   "execution_count": 36,
   "metadata": {},
   "outputs": [
    {
     "name": "stdout",
     "output_type": "stream",
     "text": [
      "Share of missing mode of conviction: 0.461998127444\n"
     ]
    }
   ],
   "source": [
    "share_missing_mode = num_missing/num_rows\n",
    "print(\"Share of missing mode of conviction:\",str(share_missing_mode))"
   ]
  },
  {
   "cell_type": "code",
   "execution_count": 52,
   "metadata": {},
   "outputs": [
    {
     "name": "stdout",
     "output_type": "stream",
     "text": [
      "jury verdict 7852\n",
      "plea of guilty 10690\n",
      "nonjury trial 995\n"
     ]
    }
   ],
   "source": [
    "#Count number of unique occurrences per category\n",
    "mode_list = mode.tolist()\n",
    "for ex_mode in unique_modes:\n",
    "    if isinstance(ex_mode,float):\n",
    "        continue #ignore nan\n",
    "    print(ex_mode, mode_list.count(ex_mode))"
   ]
  },
  {
   "cell_type": "markdown",
   "metadata": {},
   "source": [
    "#### Conclusion: only 46% of values are present. Could featurize if needed"
   ]
  },
  {
   "cell_type": "markdown",
   "metadata": {},
   "source": [
    "### Featurizing columns"
   ]
  },
  {
   "cell_type": "code",
   "execution_count": 39,
   "metadata": {
    "collapsed": true
   },
   "outputs": [],
   "source": [
    "#Create dummy variable for mode\n",
    "mode_dummies = pd.get_dummies(mode)"
   ]
  },
  {
   "cell_type": "code",
   "execution_count": 40,
   "metadata": {},
   "outputs": [
    {
     "data": {
      "text/html": [
       "<div>\n",
       "<style>\n",
       "    .dataframe thead tr:only-child th {\n",
       "        text-align: right;\n",
       "    }\n",
       "\n",
       "    .dataframe thead th {\n",
       "        text-align: left;\n",
       "    }\n",
       "\n",
       "    .dataframe tbody tr th {\n",
       "        vertical-align: top;\n",
       "    }\n",
       "</style>\n",
       "<table border=\"1\" class=\"dataframe\">\n",
       "  <thead>\n",
       "    <tr style=\"text-align: right;\">\n",
       "      <th></th>\n",
       "      <th>jury verdict</th>\n",
       "      <th>nonjury trial</th>\n",
       "      <th>plea of guilty</th>\n",
       "    </tr>\n",
       "  </thead>\n",
       "  <tbody>\n",
       "    <tr>\n",
       "      <th>0</th>\n",
       "      <td>0</td>\n",
       "      <td>0</td>\n",
       "      <td>0</td>\n",
       "    </tr>\n",
       "    <tr>\n",
       "      <th>1</th>\n",
       "      <td>1</td>\n",
       "      <td>0</td>\n",
       "      <td>0</td>\n",
       "    </tr>\n",
       "    <tr>\n",
       "      <th>2</th>\n",
       "      <td>1</td>\n",
       "      <td>0</td>\n",
       "      <td>0</td>\n",
       "    </tr>\n",
       "    <tr>\n",
       "      <th>3</th>\n",
       "      <td>0</td>\n",
       "      <td>0</td>\n",
       "      <td>0</td>\n",
       "    </tr>\n",
       "    <tr>\n",
       "      <th>4</th>\n",
       "      <td>1</td>\n",
       "      <td>0</td>\n",
       "      <td>0</td>\n",
       "    </tr>\n",
       "  </tbody>\n",
       "</table>\n",
       "</div>"
      ],
      "text/plain": [
       "   jury verdict  nonjury trial  plea of guilty\n",
       "0             0              0               0\n",
       "1             1              0               0\n",
       "2             1              0               0\n",
       "3             0              0               0\n",
       "4             1              0               0"
      ]
     },
     "execution_count": 40,
     "metadata": {},
     "output_type": "execute_result"
    }
   ],
   "source": [
    "mode_dummies.head()"
   ]
  },
  {
   "cell_type": "code",
   "execution_count": 63,
   "metadata": {},
   "outputs": [],
   "source": [
    "#Featurize grounds\n",
    "\n",
    "shape = grounds.shape[0]\n",
    "num_grounds = len(unique_grounds)\n",
    "unique_grounds = list(unique_grounds)\n",
    "\n",
    "output = np.zeros((shape,num_grounds))\n",
    "for g in range(num_grounds):\n",
    "    for v in range(shape):\n",
    "        \n",
    "        val = grounds.iloc[v]\n",
    "        \n",
    "        if pd.isnull(val):\n",
    "            continue\n",
    "        else:    \n",
    "            val_list = val.split(';')\n",
    "            if unique_grounds[g] in val_list:\n",
    "                output[v,g] = 1\n",
    "            else:\n",
    "                output[v,g] = 0"
   ]
  },
  {
   "cell_type": "code",
   "execution_count": 76,
   "metadata": {},
   "outputs": [
    {
     "data": {
      "text/plain": [
       "['sever',\n",
       " 'suppress',\n",
       " 'sufficient',\n",
       " 'instructions',\n",
       " 'coerce',\n",
       " 'ineffective counsel',\n",
       " 'double jeopardy',\n",
       " 'speedy',\n",
       " 'coercion',\n",
       " 'youth',\n",
       " 'incapac',\n",
       " 'resentenc',\n",
       " 'juror',\n",
       " 'mental']"
      ]
     },
     "execution_count": 76,
     "metadata": {},
     "output_type": "execute_result"
    }
   ],
   "source": [
    "names=list(map(lambda x: str(x), unique_grounds))\n",
    "names"
   ]
  },
  {
   "cell_type": "code",
   "execution_count": 81,
   "metadata": {},
   "outputs": [],
   "source": [
    "grounds_dummies = pd.DataFrame(output, index = df.File, columns=names)"
   ]
  },
  {
   "cell_type": "code",
   "execution_count": 79,
   "metadata": {},
   "outputs": [],
   "source": [
    "mode_dummies.index = df.File"
   ]
  },
  {
   "cell_type": "code",
   "execution_count": 85,
   "metadata": {},
   "outputs": [
    {
     "data": {
      "text/html": [
       "<div>\n",
       "<style>\n",
       "    .dataframe thead tr:only-child th {\n",
       "        text-align: right;\n",
       "    }\n",
       "\n",
       "    .dataframe thead th {\n",
       "        text-align: left;\n",
       "    }\n",
       "\n",
       "    .dataframe tbody tr th {\n",
       "        vertical-align: top;\n",
       "    }\n",
       "</style>\n",
       "<table border=\"1\" class=\"dataframe\">\n",
       "  <thead>\n",
       "    <tr style=\"text-align: right;\">\n",
       "      <th></th>\n",
       "      <th>sever</th>\n",
       "      <th>suppress</th>\n",
       "      <th>sufficient</th>\n",
       "      <th>instructions</th>\n",
       "      <th>coerce</th>\n",
       "      <th>ineffective counsel</th>\n",
       "      <th>double jeopardy</th>\n",
       "      <th>speedy</th>\n",
       "      <th>coercion</th>\n",
       "      <th>youth</th>\n",
       "      <th>incapac</th>\n",
       "      <th>resentenc</th>\n",
       "      <th>juror</th>\n",
       "      <th>mental</th>\n",
       "    </tr>\n",
       "    <tr>\n",
       "      <th>File</th>\n",
       "      <th></th>\n",
       "      <th></th>\n",
       "      <th></th>\n",
       "      <th></th>\n",
       "      <th></th>\n",
       "      <th></th>\n",
       "      <th></th>\n",
       "      <th></th>\n",
       "      <th></th>\n",
       "      <th></th>\n",
       "      <th></th>\n",
       "      <th></th>\n",
       "      <th></th>\n",
       "      <th></th>\n",
       "    </tr>\n",
       "  </thead>\n",
       "  <tbody>\n",
       "    <tr>\n",
       "      <th>2009_08295.htm.txt</th>\n",
       "      <td>0.0</td>\n",
       "      <td>0.0</td>\n",
       "      <td>0.0</td>\n",
       "      <td>0.0</td>\n",
       "      <td>0.0</td>\n",
       "      <td>0.0</td>\n",
       "      <td>0.0</td>\n",
       "      <td>0.0</td>\n",
       "      <td>0.0</td>\n",
       "      <td>0.0</td>\n",
       "      <td>0.0</td>\n",
       "      <td>0.0</td>\n",
       "      <td>0.0</td>\n",
       "      <td>0.0</td>\n",
       "    </tr>\n",
       "    <tr>\n",
       "      <th>2009_08296.htm.txt</th>\n",
       "      <td>1.0</td>\n",
       "      <td>0.0</td>\n",
       "      <td>0.0</td>\n",
       "      <td>0.0</td>\n",
       "      <td>0.0</td>\n",
       "      <td>0.0</td>\n",
       "      <td>0.0</td>\n",
       "      <td>0.0</td>\n",
       "      <td>0.0</td>\n",
       "      <td>0.0</td>\n",
       "      <td>0.0</td>\n",
       "      <td>0.0</td>\n",
       "      <td>0.0</td>\n",
       "      <td>0.0</td>\n",
       "    </tr>\n",
       "    <tr>\n",
       "      <th>2009_08297.htm.txt</th>\n",
       "      <td>1.0</td>\n",
       "      <td>0.0</td>\n",
       "      <td>1.0</td>\n",
       "      <td>0.0</td>\n",
       "      <td>0.0</td>\n",
       "      <td>0.0</td>\n",
       "      <td>0.0</td>\n",
       "      <td>0.0</td>\n",
       "      <td>1.0</td>\n",
       "      <td>0.0</td>\n",
       "      <td>0.0</td>\n",
       "      <td>0.0</td>\n",
       "      <td>0.0</td>\n",
       "      <td>0.0</td>\n",
       "    </tr>\n",
       "    <tr>\n",
       "      <th>2009_08298.htm.txt</th>\n",
       "      <td>0.0</td>\n",
       "      <td>0.0</td>\n",
       "      <td>0.0</td>\n",
       "      <td>0.0</td>\n",
       "      <td>0.0</td>\n",
       "      <td>0.0</td>\n",
       "      <td>0.0</td>\n",
       "      <td>0.0</td>\n",
       "      <td>0.0</td>\n",
       "      <td>0.0</td>\n",
       "      <td>0.0</td>\n",
       "      <td>0.0</td>\n",
       "      <td>0.0</td>\n",
       "      <td>0.0</td>\n",
       "    </tr>\n",
       "    <tr>\n",
       "      <th>2009_08311.htm.txt</th>\n",
       "      <td>1.0</td>\n",
       "      <td>0.0</td>\n",
       "      <td>0.0</td>\n",
       "      <td>0.0</td>\n",
       "      <td>0.0</td>\n",
       "      <td>0.0</td>\n",
       "      <td>0.0</td>\n",
       "      <td>1.0</td>\n",
       "      <td>0.0</td>\n",
       "      <td>0.0</td>\n",
       "      <td>0.0</td>\n",
       "      <td>0.0</td>\n",
       "      <td>0.0</td>\n",
       "      <td>0.0</td>\n",
       "    </tr>\n",
       "  </tbody>\n",
       "</table>\n",
       "</div>"
      ],
      "text/plain": [
       "                    sever  suppress  sufficient  instructions  coerce  \\\n",
       "File                                                                    \n",
       "2009_08295.htm.txt    0.0       0.0         0.0           0.0     0.0   \n",
       "2009_08296.htm.txt    1.0       0.0         0.0           0.0     0.0   \n",
       "2009_08297.htm.txt    1.0       0.0         1.0           0.0     0.0   \n",
       "2009_08298.htm.txt    0.0       0.0         0.0           0.0     0.0   \n",
       "2009_08311.htm.txt    1.0       0.0         0.0           0.0     0.0   \n",
       "\n",
       "                    ineffective counsel  double jeopardy  speedy  coercion  \\\n",
       "File                                                                         \n",
       "2009_08295.htm.txt                  0.0              0.0     0.0       0.0   \n",
       "2009_08296.htm.txt                  0.0              0.0     0.0       0.0   \n",
       "2009_08297.htm.txt                  0.0              0.0     0.0       1.0   \n",
       "2009_08298.htm.txt                  0.0              0.0     0.0       0.0   \n",
       "2009_08311.htm.txt                  0.0              0.0     1.0       0.0   \n",
       "\n",
       "                    youth  incapac  resentenc  juror  mental  \n",
       "File                                                          \n",
       "2009_08295.htm.txt    0.0      0.0        0.0    0.0     0.0  \n",
       "2009_08296.htm.txt    0.0      0.0        0.0    0.0     0.0  \n",
       "2009_08297.htm.txt    0.0      0.0        0.0    0.0     0.0  \n",
       "2009_08298.htm.txt    0.0      0.0        0.0    0.0     0.0  \n",
       "2009_08311.htm.txt    0.0      0.0        0.0    0.0     0.0  "
      ]
     },
     "execution_count": 85,
     "metadata": {},
     "output_type": "execute_result"
    }
   ],
   "source": [
    "grounds_dummies.head()"
   ]
  },
  {
   "cell_type": "code",
   "execution_count": 88,
   "metadata": {},
   "outputs": [],
   "source": [
    "mode_grounds_df = mode_dummies.merge(grounds_dummies, left_index=True, right_index=True)"
   ]
  },
  {
   "cell_type": "code",
   "execution_count": 90,
   "metadata": {},
   "outputs": [
    {
     "data": {
      "text/html": [
       "<div>\n",
       "<style>\n",
       "    .dataframe thead tr:only-child th {\n",
       "        text-align: right;\n",
       "    }\n",
       "\n",
       "    .dataframe thead th {\n",
       "        text-align: left;\n",
       "    }\n",
       "\n",
       "    .dataframe tbody tr th {\n",
       "        vertical-align: top;\n",
       "    }\n",
       "</style>\n",
       "<table border=\"1\" class=\"dataframe\">\n",
       "  <thead>\n",
       "    <tr style=\"text-align: right;\">\n",
       "      <th></th>\n",
       "      <th>jury verdict</th>\n",
       "      <th>nonjury trial</th>\n",
       "      <th>plea of guilty</th>\n",
       "      <th>sever</th>\n",
       "      <th>suppress</th>\n",
       "      <th>sufficient</th>\n",
       "      <th>instructions</th>\n",
       "      <th>coerce</th>\n",
       "      <th>ineffective counsel</th>\n",
       "      <th>double jeopardy</th>\n",
       "      <th>speedy</th>\n",
       "      <th>coercion</th>\n",
       "      <th>youth</th>\n",
       "      <th>incapac</th>\n",
       "      <th>resentenc</th>\n",
       "      <th>juror</th>\n",
       "      <th>mental</th>\n",
       "    </tr>\n",
       "    <tr>\n",
       "      <th>File</th>\n",
       "      <th></th>\n",
       "      <th></th>\n",
       "      <th></th>\n",
       "      <th></th>\n",
       "      <th></th>\n",
       "      <th></th>\n",
       "      <th></th>\n",
       "      <th></th>\n",
       "      <th></th>\n",
       "      <th></th>\n",
       "      <th></th>\n",
       "      <th></th>\n",
       "      <th></th>\n",
       "      <th></th>\n",
       "      <th></th>\n",
       "      <th></th>\n",
       "      <th></th>\n",
       "    </tr>\n",
       "  </thead>\n",
       "  <tbody>\n",
       "    <tr>\n",
       "      <th>2003_18059.htm.txt</th>\n",
       "      <td>0</td>\n",
       "      <td>0</td>\n",
       "      <td>0</td>\n",
       "      <td>0.0</td>\n",
       "      <td>0.0</td>\n",
       "      <td>0.0</td>\n",
       "      <td>0.0</td>\n",
       "      <td>0.0</td>\n",
       "      <td>0.0</td>\n",
       "      <td>0.0</td>\n",
       "      <td>0.0</td>\n",
       "      <td>0.0</td>\n",
       "      <td>0.0</td>\n",
       "      <td>0.0</td>\n",
       "      <td>0.0</td>\n",
       "      <td>0.0</td>\n",
       "      <td>0.0</td>\n",
       "    </tr>\n",
       "    <tr>\n",
       "      <th>2003_18060.htm.txt</th>\n",
       "      <td>1</td>\n",
       "      <td>0</td>\n",
       "      <td>0</td>\n",
       "      <td>0.0</td>\n",
       "      <td>0.0</td>\n",
       "      <td>0.0</td>\n",
       "      <td>1.0</td>\n",
       "      <td>0.0</td>\n",
       "      <td>0.0</td>\n",
       "      <td>0.0</td>\n",
       "      <td>0.0</td>\n",
       "      <td>0.0</td>\n",
       "      <td>0.0</td>\n",
       "      <td>0.0</td>\n",
       "      <td>0.0</td>\n",
       "      <td>0.0</td>\n",
       "      <td>0.0</td>\n",
       "    </tr>\n",
       "    <tr>\n",
       "      <th>2003_18061.htm.txt</th>\n",
       "      <td>1</td>\n",
       "      <td>0</td>\n",
       "      <td>0</td>\n",
       "      <td>0.0</td>\n",
       "      <td>0.0</td>\n",
       "      <td>0.0</td>\n",
       "      <td>0.0</td>\n",
       "      <td>0.0</td>\n",
       "      <td>0.0</td>\n",
       "      <td>0.0</td>\n",
       "      <td>0.0</td>\n",
       "      <td>0.0</td>\n",
       "      <td>0.0</td>\n",
       "      <td>0.0</td>\n",
       "      <td>0.0</td>\n",
       "      <td>0.0</td>\n",
       "      <td>0.0</td>\n",
       "    </tr>\n",
       "    <tr>\n",
       "      <th>2003_18062.htm.txt</th>\n",
       "      <td>1</td>\n",
       "      <td>0</td>\n",
       "      <td>0</td>\n",
       "      <td>0.0</td>\n",
       "      <td>0.0</td>\n",
       "      <td>1.0</td>\n",
       "      <td>0.0</td>\n",
       "      <td>0.0</td>\n",
       "      <td>0.0</td>\n",
       "      <td>0.0</td>\n",
       "      <td>0.0</td>\n",
       "      <td>0.0</td>\n",
       "      <td>0.0</td>\n",
       "      <td>0.0</td>\n",
       "      <td>0.0</td>\n",
       "      <td>0.0</td>\n",
       "      <td>1.0</td>\n",
       "    </tr>\n",
       "    <tr>\n",
       "      <th>2003_18063.htm.txt</th>\n",
       "      <td>0</td>\n",
       "      <td>0</td>\n",
       "      <td>1</td>\n",
       "      <td>0.0</td>\n",
       "      <td>0.0</td>\n",
       "      <td>0.0</td>\n",
       "      <td>0.0</td>\n",
       "      <td>0.0</td>\n",
       "      <td>0.0</td>\n",
       "      <td>0.0</td>\n",
       "      <td>0.0</td>\n",
       "      <td>0.0</td>\n",
       "      <td>0.0</td>\n",
       "      <td>0.0</td>\n",
       "      <td>0.0</td>\n",
       "      <td>0.0</td>\n",
       "      <td>1.0</td>\n",
       "    </tr>\n",
       "  </tbody>\n",
       "</table>\n",
       "</div>"
      ],
      "text/plain": [
       "                    jury verdict  nonjury trial  plea of guilty  sever  \\\n",
       "File                                                                     \n",
       "2003_18059.htm.txt             0              0               0    0.0   \n",
       "2003_18060.htm.txt             1              0               0    0.0   \n",
       "2003_18061.htm.txt             1              0               0    0.0   \n",
       "2003_18062.htm.txt             1              0               0    0.0   \n",
       "2003_18063.htm.txt             0              0               1    0.0   \n",
       "\n",
       "                    suppress  sufficient  instructions  coerce  \\\n",
       "File                                                             \n",
       "2003_18059.htm.txt       0.0         0.0           0.0     0.0   \n",
       "2003_18060.htm.txt       0.0         0.0           1.0     0.0   \n",
       "2003_18061.htm.txt       0.0         0.0           0.0     0.0   \n",
       "2003_18062.htm.txt       0.0         1.0           0.0     0.0   \n",
       "2003_18063.htm.txt       0.0         0.0           0.0     0.0   \n",
       "\n",
       "                    ineffective counsel  double jeopardy  speedy  coercion  \\\n",
       "File                                                                         \n",
       "2003_18059.htm.txt                  0.0              0.0     0.0       0.0   \n",
       "2003_18060.htm.txt                  0.0              0.0     0.0       0.0   \n",
       "2003_18061.htm.txt                  0.0              0.0     0.0       0.0   \n",
       "2003_18062.htm.txt                  0.0              0.0     0.0       0.0   \n",
       "2003_18063.htm.txt                  0.0              0.0     0.0       0.0   \n",
       "\n",
       "                    youth  incapac  resentenc  juror  mental  \n",
       "File                                                          \n",
       "2003_18059.htm.txt    0.0      0.0        0.0    0.0     0.0  \n",
       "2003_18060.htm.txt    0.0      0.0        0.0    0.0     0.0  \n",
       "2003_18061.htm.txt    0.0      0.0        0.0    0.0     0.0  \n",
       "2003_18062.htm.txt    0.0      0.0        0.0    0.0     1.0  \n",
       "2003_18063.htm.txt    0.0      0.0        0.0    0.0     1.0  "
      ]
     },
     "execution_count": 90,
     "metadata": {},
     "output_type": "execute_result"
    }
   ],
   "source": [
    "mode_grounds_df.head()"
   ]
  },
  {
   "cell_type": "code",
   "execution_count": null,
   "metadata": {},
   "outputs": [],
   "source": [
    "mode_grounds_df.drop('ineffective counsel',axis=1)"
   ]
  },
  {
   "cell_type": "code",
   "execution_count": 92,
   "metadata": {
    "collapsed": true
   },
   "outputs": [],
   "source": [
    "mode_grounds_df.to_csv('mode_grounds_dummies.csv')"
   ]
  }
 ],
 "metadata": {
  "kernelspec": {
   "display_name": "Python 3",
   "language": "python",
   "name": "python3"
  },
  "language_info": {
   "codemirror_mode": {
    "name": "ipython",
    "version": 3
   },
   "file_extension": ".py",
   "mimetype": "text/x-python",
   "name": "python",
   "nbconvert_exporter": "python",
   "pygments_lexer": "ipython3",
   "version": "3.6.1"
  }
 },
 "nbformat": 4,
 "nbformat_minor": 2
}
